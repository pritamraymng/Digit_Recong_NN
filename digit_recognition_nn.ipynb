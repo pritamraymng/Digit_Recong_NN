{
  "nbformat": 4,
  "nbformat_minor": 0,
  "metadata": {
    "colab": {
      "provenance": []
    },
    "kernelspec": {
      "name": "python3",
      "display_name": "Python 3"
    },
    "language_info": {
      "name": "python"
    }
  },
  "cells": [
    {
      "cell_type": "code",
      "source": [
        "from google.colab import drive\n",
        "\n",
        "drive.mount('/content/drive')"
      ],
      "metadata": {
        "colab": {
          "base_uri": "https://localhost:8080/"
        },
        "id": "gAJTMX3uJFK_",
        "outputId": "791f168e-e523-4bb0-f123-10af0fa042c7"
      },
      "execution_count": null,
      "outputs": [
        {
          "output_type": "stream",
          "name": "stdout",
          "text": [
            "Mounted at /content/drive\n"
          ]
        }
      ]
    },
    {
      "cell_type": "code",
      "source": [
        "import numpy as np\n",
        "import pandas as pd\n",
        "from matplotlib import pyplot as plt\n",
        "\n",
        "data = pd.read_csv('/content/train.csv.zip')\n",
        "print(data.shape)"
      ],
      "metadata": {
        "colab": {
          "base_uri": "https://localhost:8080/"
        },
        "id": "1njTX4u7JSs-",
        "outputId": "579f0190-f7fc-41b6-b541-0d4551b3b1d3"
      },
      "execution_count": null,
      "outputs": [
        {
          "output_type": "stream",
          "name": "stdout",
          "text": [
            "(42000, 785)\n"
          ]
        }
      ]
    },
    {
      "cell_type": "code",
      "source": [
        "data = np.array(data)\n",
        "m, n = data.shape\n",
        "np.random.shuffle(data) # shuffle before splitting into dev and training sets\n",
        "\n",
        "data_dev = data[0:1000].T\n",
        "Y_dev = data_dev[0]\n",
        "X_dev = data_dev[1:n]\n",
        "X_dev = X_dev / 255.\n",
        "\n",
        "data_train = data[1000:m].T\n",
        "Y_train = data_train[0]\n",
        "X_train = data_train[1:n]\n",
        "X_train = X_train / 255.\n",
        "_,m_train = X_train.shape\n",
        "\n",
        "print(X_train.shape)\n",
        "print(Y_train.shape)\n",
        "# print(X_test.shape)\n",
        "# print(y_test.shape)"
      ],
      "metadata": {
        "colab": {
          "base_uri": "https://localhost:8080/"
        },
        "id": "KA-xkbbvJgIu",
        "outputId": "c22cfd65-da04-4fa1-c056-3895950e5575"
      },
      "execution_count": null,
      "outputs": [
        {
          "output_type": "stream",
          "name": "stdout",
          "text": [
            "(784, 41000)\n",
            "(41000,)\n"
          ]
        }
      ]
    },
    {
      "cell_type": "code",
      "source": [
        "Y_train"
      ],
      "metadata": {
        "colab": {
          "base_uri": "https://localhost:8080/"
        },
        "id": "-THjQP9aJqEw",
        "outputId": "baa3571f-cecc-4841-aa3e-44a0fff94020"
      },
      "execution_count": null,
      "outputs": [
        {
          "output_type": "execute_result",
          "data": {
            "text/plain": [
              "array([3, 3, 2, ..., 3, 3, 0])"
            ]
          },
          "metadata": {},
          "execution_count": 12
        }
      ]
    },
    {
      "cell_type": "code",
      "source": [
        "def init_params():\n",
        "    W1 = np.random.rand(10, 784) - 0.5\n",
        "    b1 = np.random.rand(10, 1) - 0.5\n",
        "    W2 = np.random.rand(10, 10) - 0.5\n",
        "    b2 = np.random.rand(10, 1) - 0.5\n",
        "    return W1, b1, W2, b2\n",
        "\n",
        "def ReLU(Z):\n",
        "    return np.maximum(Z, 0)\n",
        "\n",
        "def softmax(Z):\n",
        "    A = np.exp(Z) / sum(np.exp(Z))\n",
        "    return A\n",
        "\n",
        "def forward_prop(W1, b1, W2, b2, X):\n",
        "    Z1 = W1.dot(X) + b1\n",
        "    A1 = ReLU(Z1)\n",
        "    Z2 = W2.dot(A1) + b2\n",
        "    A2 = softmax(Z2)\n",
        "    return Z1, A1, Z2, A2\n",
        "\n",
        "def ReLU_deriv(Z):\n",
        "    return Z > 0\n",
        "\n",
        "def one_hot(Y):\n",
        "    one_hot_Y = np.zeros((Y.size, Y.max() + 1))\n",
        "    one_hot_Y[np.arange(Y.size), Y] = 1\n",
        "    one_hot_Y = one_hot_Y.T\n",
        "    return one_hot_Y\n",
        "\n",
        "def backward_prop(Z1, A1, Z2, A2, W1, W2, X, Y):\n",
        "    one_hot_Y = one_hot(Y)\n",
        "    dZ2 = A2 - one_hot_Y\n",
        "    dW2 = 1 / m * dZ2.dot(A1.T)\n",
        "    db2 = 1 / m * np.sum(dZ2)\n",
        "    dZ1 = W2.T.dot(dZ2) * ReLU_deriv(Z1)\n",
        "    dW1 = 1 / m * dZ1.dot(X.T)\n",
        "    db1 = 1 / m * np.sum(dZ1)\n",
        "    return dW1, db1, dW2, db2\n",
        "\n",
        "\n",
        "def update_params(W1, b1, W2, b2, dW1, db1, dW2, db2, alpha):\n",
        "    W1 = W1 - alpha * dW1\n",
        "    b1 = b1 - alpha * db1\n",
        "    W2 = W2 - alpha * dW2\n",
        "    b2 = b2 - alpha * db2\n",
        "    return W1, b1, W2, b2\n",
        "\n"
      ],
      "metadata": {
        "id": "lgw1zP7zJvCh"
      },
      "execution_count": null,
      "outputs": []
    },
    {
      "cell_type": "code",
      "source": [
        "def get_predictions(A2):\n",
        "    return np.argmax(A2, 0)\n",
        "\n",
        "def get_accuracy(predictions, Y):\n",
        "    print(predictions, Y)\n",
        "    return np.sum(predictions == Y) / Y.size\n",
        "\n",
        "def gradient_descent(X, Y, alpha, iterations):\n",
        "    W1, b1, W2, b2 = init_params()\n",
        "    for i in range(iterations):\n",
        "        Z1, A1, Z2, A2 = forward_prop(W1, b1, W2, b2, X)\n",
        "        dW1, db1, dW2, db2 = backward_prop(Z1, A1, Z2, A2, W1, W2, X, Y)\n",
        "        W1, b1, W2, b2 = update_params(W1, b1, W2, b2, dW1, db1, dW2, db2, alpha)\n",
        "        if i % 10 == 0:\n",
        "            print(\"Iteration: \", i)\n",
        "            predictions = get_predictions(A2)\n",
        "            print(get_accuracy(predictions, Y))\n",
        "    return W1, b1, W2, b2\n",
        "\n",
        "W1, b1, W2, b2 = gradient_descent(X_train, Y_train, 0.10, 500)"
      ],
      "metadata": {
        "colab": {
          "base_uri": "https://localhost:8080/"
        },
        "id": "1xtcPr9uJ5yi",
        "outputId": "70002330-59bc-4517-9546-6b8e19917aaa"
      },
      "execution_count": null,
      "outputs": [
        {
          "output_type": "stream",
          "name": "stdout",
          "text": [
            "Iteration:  0\n",
            "[9 9 5 ... 7 9 1] [3 3 2 ... 3 3 0]\n",
            "0.10634146341463414\n",
            "Iteration:  10\n",
            "[9 9 2 ... 7 2 6] [3 3 2 ... 3 3 0]\n",
            "0.21921951219512195\n",
            "Iteration:  20\n",
            "[9 9 2 ... 7 2 6] [3 3 2 ... 3 3 0]\n",
            "0.2936341463414634\n",
            "Iteration:  30\n",
            "[9 3 2 ... 7 2 0] [3 3 2 ... 3 3 0]\n",
            "0.3402439024390244\n",
            "Iteration:  40\n",
            "[9 3 2 ... 7 2 0] [3 3 2 ... 3 3 0]\n",
            "0.3904878048780488\n",
            "Iteration:  50\n",
            "[3 3 2 ... 7 2 0] [3 3 2 ... 3 3 0]\n",
            "0.4394878048780488\n",
            "Iteration:  60\n",
            "[3 3 2 ... 3 2 0] [3 3 2 ... 3 3 0]\n",
            "0.4832439024390244\n",
            "Iteration:  70\n",
            "[3 3 2 ... 3 8 0] [3 3 2 ... 3 3 0]\n",
            "0.521609756097561\n",
            "Iteration:  80\n",
            "[3 3 2 ... 3 8 0] [3 3 2 ... 3 3 0]\n",
            "0.5550975609756098\n",
            "Iteration:  90\n",
            "[3 3 2 ... 3 8 0] [3 3 2 ... 3 3 0]\n",
            "0.5873414634146341\n",
            "Iteration:  100\n",
            "[3 7 2 ... 3 8 0] [3 3 2 ... 3 3 0]\n",
            "0.6129512195121951\n",
            "Iteration:  110\n",
            "[3 7 2 ... 3 8 0] [3 3 2 ... 3 3 0]\n",
            "0.6331463414634146\n",
            "Iteration:  120\n",
            "[3 7 2 ... 3 8 0] [3 3 2 ... 3 3 0]\n",
            "0.6529268292682927\n",
            "Iteration:  130\n",
            "[3 7 2 ... 3 8 0] [3 3 2 ... 3 3 0]\n",
            "0.669829268292683\n",
            "Iteration:  140\n",
            "[3 7 2 ... 3 8 0] [3 3 2 ... 3 3 0]\n",
            "0.6835853658536586\n",
            "Iteration:  150\n",
            "[3 7 2 ... 3 8 0] [3 3 2 ... 3 3 0]\n",
            "0.6963658536585365\n",
            "Iteration:  160\n",
            "[3 7 2 ... 3 8 0] [3 3 2 ... 3 3 0]\n",
            "0.7080243902439024\n",
            "Iteration:  170\n",
            "[3 7 2 ... 3 8 0] [3 3 2 ... 3 3 0]\n",
            "0.7184634146341463\n",
            "Iteration:  180\n",
            "[3 7 2 ... 3 8 0] [3 3 2 ... 3 3 0]\n",
            "0.7290243902439024\n",
            "Iteration:  190\n",
            "[3 7 2 ... 3 8 0] [3 3 2 ... 3 3 0]\n",
            "0.7379512195121951\n",
            "Iteration:  200\n",
            "[3 7 2 ... 3 8 0] [3 3 2 ... 3 3 0]\n",
            "0.746390243902439\n",
            "Iteration:  220\n",
            "[3 7 2 ... 3 8 0] [3 3 2 ... 3 3 0]\n",
            "0.7597560975609756\n",
            "Iteration:  230\n",
            "[3 7 2 ... 3 8 0] [3 3 2 ... 3 3 0]\n",
            "0.7660243902439025\n",
            "Iteration:  240\n",
            "[3 7 2 ... 3 8 0] [3 3 2 ... 3 3 0]\n",
            "0.7703658536585366\n",
            "Iteration:  250\n",
            "[3 7 2 ... 3 8 0] [3 3 2 ... 3 3 0]\n",
            "0.7742926829268293\n",
            "Iteration:  260\n",
            "[3 7 2 ... 3 8 0] [3 3 2 ... 3 3 0]\n",
            "0.7790975609756098\n",
            "Iteration:  270\n",
            "[3 7 2 ... 3 8 0] [3 3 2 ... 3 3 0]\n",
            "0.7836829268292683\n",
            "Iteration:  280\n",
            "[3 7 2 ... 3 8 0] [3 3 2 ... 3 3 0]\n",
            "0.7872439024390244\n",
            "Iteration:  290\n",
            "[3 7 2 ... 3 8 0] [3 3 2 ... 3 3 0]\n",
            "0.7909024390243903\n",
            "Iteration:  300\n",
            "[3 7 2 ... 3 8 0] [3 3 2 ... 3 3 0]\n",
            "0.7943170731707317\n",
            "Iteration:  310\n",
            "[3 7 2 ... 3 8 0] [3 3 2 ... 3 3 0]\n",
            "0.7975853658536586\n",
            "Iteration:  320\n",
            "[3 7 2 ... 3 8 0] [3 3 2 ... 3 3 0]\n",
            "0.800609756097561\n",
            "Iteration:  330\n",
            "[3 7 2 ... 3 8 0] [3 3 2 ... 3 3 0]\n",
            "0.8032926829268293\n",
            "Iteration:  340\n",
            "[3 7 2 ... 3 8 0] [3 3 2 ... 3 3 0]\n",
            "0.8057317073170732\n",
            "Iteration:  350\n",
            "[3 7 2 ... 3 8 0] [3 3 2 ... 3 3 0]\n",
            "0.8076341463414635\n",
            "Iteration:  360\n",
            "[3 7 2 ... 3 8 0] [3 3 2 ... 3 3 0]\n",
            "0.8095121951219513\n",
            "Iteration:  370\n",
            "[3 7 2 ... 3 8 0] [3 3 2 ... 3 3 0]\n",
            "0.8115365853658537\n",
            "Iteration:  380\n",
            "[3 7 2 ... 3 8 0] [3 3 2 ... 3 3 0]\n",
            "0.8137073170731707\n",
            "Iteration:  390\n",
            "[3 3 2 ... 3 8 0] [3 3 2 ... 3 3 0]\n",
            "0.8152439024390243\n",
            "Iteration:  400\n",
            "[3 3 2 ... 3 8 0] [3 3 2 ... 3 3 0]\n",
            "0.8170487804878048\n",
            "Iteration:  410\n",
            "[3 3 2 ... 3 8 0] [3 3 2 ... 3 3 0]\n",
            "0.8186585365853658\n",
            "Iteration:  420\n",
            "[3 3 2 ... 3 8 0] [3 3 2 ... 3 3 0]\n",
            "0.820170731707317\n",
            "Iteration:  430\n",
            "[3 3 2 ... 3 8 0] [3 3 2 ... 3 3 0]\n",
            "0.8216341463414634\n",
            "Iteration:  440\n",
            "[3 3 2 ... 3 8 0] [3 3 2 ... 3 3 0]\n",
            "0.8230243902439024\n",
            "Iteration:  450\n",
            "[3 3 2 ... 3 8 0] [3 3 2 ... 3 3 0]\n",
            "0.8245853658536585\n",
            "Iteration:  460\n",
            "[3 3 2 ... 3 8 0] [3 3 2 ... 3 3 0]\n",
            "0.8259756097560975\n",
            "Iteration:  470\n",
            "[3 3 2 ... 3 8 0] [3 3 2 ... 3 3 0]\n",
            "0.8277560975609756\n",
            "Iteration:  480\n",
            "[3 3 2 ... 3 8 0] [3 3 2 ... 3 3 0]\n",
            "0.8292439024390243\n",
            "Iteration:  490\n",
            "[3 3 2 ... 3 8 0] [3 3 2 ... 3 3 0]\n",
            "0.8306585365853658\n"
          ]
        }
      ]
    },
    {
      "cell_type": "code",
      "source": [
        "W1, b1, W2, b2 = gradient_descent(X_train, Y_train, 0.10, 500)"
      ],
      "metadata": {
        "colab": {
          "base_uri": "https://localhost:8080/"
        },
        "id": "Mvxx3ejAKULe",
        "outputId": "cc3643ed-5bec-4c46-899c-632a03fb75da"
      },
      "execution_count": null,
      "outputs": [
        {
          "output_type": "stream",
          "name": "stdout",
          "text": [
            "Iteration:  0\n",
            "[1 8 1 ... 1 5 1] [3 3 2 ... 3 3 0]\n",
            "0.12865853658536586\n",
            "Iteration:  10\n",
            "[3 8 4 ... 0 5 4] [3 3 2 ... 3 3 0]\n",
            "0.24992682926829268\n",
            "Iteration:  20\n",
            "[3 8 4 ... 0 5 4] [3 3 2 ... 3 3 0]\n",
            "0.3585609756097561\n",
            "Iteration:  30\n",
            "[3 3 4 ... 0 5 4] [3 3 2 ... 3 3 0]\n",
            "0.4594878048780488\n",
            "Iteration:  40\n",
            "[3 3 8 ... 0 5 0] [3 3 2 ... 3 3 0]\n",
            "0.5186341463414634\n",
            "Iteration:  50\n",
            "[3 3 8 ... 3 5 0] [3 3 2 ... 3 3 0]\n",
            "0.5571463414634147\n",
            "Iteration:  60\n",
            "[3 3 8 ... 3 5 0] [3 3 2 ... 3 3 0]\n",
            "0.5878780487804878\n",
            "Iteration:  70\n",
            "[3 3 8 ... 3 5 0] [3 3 2 ... 3 3 0]\n",
            "0.6146341463414634\n",
            "Iteration:  80\n",
            "[3 3 2 ... 3 5 5] [3 3 2 ... 3 3 0]\n",
            "0.6385609756097561\n",
            "Iteration:  90\n",
            "[3 3 2 ... 3 5 5] [3 3 2 ... 3 3 0]\n",
            "0.6589756097560976\n",
            "Iteration:  100\n",
            "[3 3 2 ... 3 5 5] [3 3 2 ... 3 3 0]\n",
            "0.6780243902439025\n",
            "Iteration:  110\n",
            "[3 3 2 ... 3 5 5] [3 3 2 ... 3 3 0]\n",
            "0.6948048780487804\n",
            "Iteration:  120\n",
            "[3 3 2 ... 3 5 5] [3 3 2 ... 3 3 0]\n",
            "0.708390243902439\n",
            "Iteration:  130\n",
            "[3 3 2 ... 3 5 5] [3 3 2 ... 3 3 0]\n",
            "0.7217317073170731\n",
            "Iteration:  140\n",
            "[3 3 2 ... 3 5 5] [3 3 2 ... 3 3 0]\n",
            "0.7340243902439024\n",
            "Iteration:  150\n",
            "[3 3 2 ... 3 5 5] [3 3 2 ... 3 3 0]\n",
            "0.7440243902439024\n",
            "Iteration:  160\n",
            "[3 3 2 ... 3 5 5] [3 3 2 ... 3 3 0]\n",
            "0.7539024390243902\n",
            "Iteration:  170\n",
            "[3 3 2 ... 3 5 5] [3 3 2 ... 3 3 0]\n",
            "0.7620487804878049\n",
            "Iteration:  180\n",
            "[3 3 2 ... 3 5 5] [3 3 2 ... 3 3 0]\n",
            "0.768390243902439\n",
            "Iteration:  190\n",
            "[3 3 2 ... 3 5 5] [3 3 2 ... 3 3 0]\n",
            "0.775609756097561\n",
            "Iteration:  200\n",
            "[3 3 2 ... 3 5 5] [3 3 2 ... 3 3 0]\n",
            "0.7820975609756098\n",
            "Iteration:  210\n",
            "[3 3 2 ... 3 5 5] [3 3 2 ... 3 3 0]\n",
            "0.7879268292682927\n",
            "Iteration:  220\n",
            "[3 3 2 ... 3 5 5] [3 3 2 ... 3 3 0]\n",
            "0.7935609756097561\n",
            "Iteration:  230\n",
            "[3 3 2 ... 3 5 5] [3 3 2 ... 3 3 0]\n",
            "0.7986341463414635\n",
            "Iteration:  240\n",
            "[3 3 2 ... 3 5 5] [3 3 2 ... 3 3 0]\n",
            "0.8030731707317074\n",
            "Iteration:  250\n",
            "[3 3 2 ... 3 5 5] [3 3 2 ... 3 3 0]\n",
            "0.8065121951219513\n",
            "Iteration:  260\n",
            "[3 3 2 ... 3 5 5] [3 3 2 ... 3 3 0]\n",
            "0.809609756097561\n",
            "Iteration:  270\n",
            "[3 3 2 ... 3 5 5] [3 3 2 ... 3 3 0]\n",
            "0.8125121951219512\n",
            "Iteration:  280\n",
            "[3 3 2 ... 3 5 5] [3 3 2 ... 3 3 0]\n",
            "0.8160243902439024\n",
            "Iteration:  290\n",
            "[3 3 2 ... 3 5 5] [3 3 2 ... 3 3 0]\n",
            "0.8190731707317073\n",
            "Iteration:  300\n",
            "[3 3 2 ... 3 5 5] [3 3 2 ... 3 3 0]\n",
            "0.8215365853658536\n",
            "Iteration:  310\n",
            "[3 3 2 ... 3 5 5] [3 3 2 ... 3 3 0]\n",
            "0.8246829268292682\n",
            "Iteration:  320\n",
            "[3 3 2 ... 3 5 5] [3 3 2 ... 3 3 0]\n",
            "0.8269756097560975\n",
            "Iteration:  330\n",
            "[3 3 2 ... 3 5 5] [3 3 2 ... 3 3 0]\n",
            "0.8284878048780487\n",
            "Iteration:  340\n",
            "[3 3 2 ... 3 5 5] [3 3 2 ... 3 3 0]\n",
            "0.8309512195121951\n",
            "Iteration:  350\n",
            "[3 3 2 ... 3 5 5] [3 3 2 ... 3 3 0]\n",
            "0.833390243902439\n",
            "Iteration:  360\n",
            "[3 3 2 ... 3 5 5] [3 3 2 ... 3 3 0]\n",
            "0.8350487804878048\n",
            "Iteration:  370\n",
            "[3 3 2 ... 3 5 5] [3 3 2 ... 3 3 0]\n",
            "0.8365121951219512\n",
            "Iteration:  380\n",
            "[3 3 2 ... 3 5 5] [3 3 2 ... 3 3 0]\n",
            "0.8384390243902439\n",
            "Iteration:  390\n",
            "[3 3 2 ... 3 5 5] [3 3 2 ... 3 3 0]\n",
            "0.8404634146341463\n",
            "Iteration:  400\n",
            "[3 3 2 ... 3 5 5] [3 3 2 ... 3 3 0]\n",
            "0.8420731707317073\n",
            "Iteration:  410\n",
            "[3 3 2 ... 3 5 5] [3 3 2 ... 3 3 0]\n",
            "0.8438048780487805\n",
            "Iteration:  420\n",
            "[3 3 2 ... 3 5 5] [3 3 2 ... 3 3 0]\n",
            "0.8450487804878049\n",
            "Iteration:  430\n",
            "[3 3 2 ... 3 5 5] [3 3 2 ... 3 3 0]\n",
            "0.846170731707317\n",
            "Iteration:  440\n",
            "[3 3 2 ... 3 5 5] [3 3 2 ... 3 3 0]\n",
            "0.8476829268292683\n",
            "Iteration:  450\n",
            "[3 3 2 ... 3 5 5] [3 3 2 ... 3 3 0]\n",
            "0.8489024390243902\n",
            "Iteration:  460\n",
            "[3 3 2 ... 3 5 5] [3 3 2 ... 3 3 0]\n",
            "0.8505365853658536\n",
            "Iteration:  470\n",
            "[3 3 2 ... 3 5 5] [3 3 2 ... 3 3 0]\n",
            "0.851780487804878\n",
            "Iteration:  480\n",
            "[3 3 2 ... 3 5 5] [3 3 2 ... 3 3 0]\n",
            "0.8526341463414634\n",
            "Iteration:  490\n",
            "[3 3 2 ... 3 5 5] [3 3 2 ... 3 3 0]\n",
            "0.8537317073170732\n"
          ]
        }
      ]
    },
    {
      "cell_type": "code",
      "source": [
        "def make_predictions(X, W1, b1, W2, b2):\n",
        "    _, _, _, A2 = forward_prop(W1, b1, W2, b2, X)\n",
        "    predictions = get_predictions(A2)\n",
        "    return predictions\n",
        "\n",
        "def test_prediction(index, W1, b1, W2, b2):\n",
        "    current_image = X_train[:, index, None]\n",
        "    prediction = make_predictions(X_train[:, index, None], W1, b1, W2, b2)\n",
        "    label = Y_train[index]\n",
        "    print(\"Prediction: \", prediction)\n",
        "    print(\"Label: \", label)\n",
        "\n",
        "    current_image = current_image.reshape((28, 28)) * 255\n",
        "    plt.gray()\n",
        "    plt.imshow(current_image, interpolation='nearest')\n",
        "    plt.show()"
      ],
      "metadata": {
        "id": "agMzn-yGMxr6"
      },
      "execution_count": null,
      "outputs": []
    },
    {
      "cell_type": "code",
      "source": [
        "test_prediction(0, W1, b1, W2, b2)\n",
        "test_prediction(1, W1, b1, W2, b2)\n",
        "test_prediction(2, W1, b1, W2, b2)\n",
        "test_prediction(3, W1, b1, W2, b2)"
      ],
      "metadata": {
        "colab": {
          "base_uri": "https://localhost:8080/",
          "height": 1000
        },
        "id": "FqUWMBkVM4pR",
        "outputId": "4a3a202b-60b1-4e04-8f7f-a21453135732"
      },
      "execution_count": null,
      "outputs": [
        {
          "output_type": "stream",
          "name": "stdout",
          "text": [
            "Prediction:  [3]\n",
            "Label:  3\n"
          ]
        },
        {
          "output_type": "display_data",
          "data": {
            "text/plain": [
              "<Figure size 640x480 with 1 Axes>"
            ],
            "image/png": "[encoded data removed]"
          },
          "metadata": {}
        },
        {
          "output_type": "stream",
          "name": "stdout",
          "text": [
            "Prediction:  [3]\n",
            "Label:  3\n"
          ]
        },
        {
          "output_type": "display_data",
          "data": {
            "text/plain": [
              "<Figure size 640x480 with 1 Axes>"
            ],
            "image/png": "[encoded data removed]"
          },
          "metadata": {}
        },
        {
          "output_type": "stream",
          "name": "stdout",
          "text": [
            "Prediction:  [2]\n",
            "Label:  2\n"
          ]
        },
        {
          "output_type": "display_data",
          "data": {
            "text/plain": [
              "<Figure size 640x480 with 1 Axes>"
            ],
            "image/png": "[encoded data removed]"
          },
          "metadata": {}
        },
        {
          "output_type": "stream",
          "name": "stdout",
          "text": [
            "Prediction:  [2]\n",
            "Label:  2\n"
          ]
        },
        {
          "output_type": "display_data",
          "data": {
            "text/plain": [
              "<Figure size 640x480 with 1 Axes>"
            ],
            "image/png": "[encoded data removed]"
          },
          "metadata": {}
        }
      ]
    },
    {
      "cell_type": "code",
      "source": [
        "dev_predictions = make_predictions(X_dev, W1, b1, W2, b2)\n",
        "get_accuracy(dev_predictions, Y_dev)"
      ],
      "metadata": {
        "id": "9ulUjMYgND8O",
        "outputId": "2eae579a-2aa6-4095-9e6c-751c56531520",
        "colab": {
          "base_uri": "https://localhost:8080/"
        }
      },
      "execution_count": null,
      "outputs": [
        {
          "output_type": "stream",
          "name": "stdout",
          "text": [
            "[4 3 0 0 0 9 0 3 7 4 5 1 2 6 3 9 7 8 4 3 9 1 5 8 7 2 6 1 4 8 9 7 8 3 3 7 8\n",
            " 8 9 6 5 9 3 0 4 7 1 5 0 0 3 7 7 9 1 1 1 8 9 6 7 2 3 0 3 0 2 8 9 9 9 2 9 8\n",
            " 8 6 0 4 6 0 5 1 2 1 4 0 2 8 1 2 3 7 7 1 7 3 4 1 7 3 4 7 0 9 5 1 4 0 5 9 0\n",
            " 8 1 3 1 3 5 5 1 6 5 3 2 6 1 9 7 3 9 2 0 1 1 4 3 3 4 0 4 9 9 6 1 1 8 9 3 7\n",
            " 5 2 6 8 7 8 8 9 8 8 6 2 1 2 4 6 5 4 5 2 3 4 2 3 6 1 3 5 1 7 6 4 8 3 7 7 6\n",
            " 9 3 6 3 4 1 4 0 6 9 0 6 4 5 5 7 7 8 8 0 9 1 2 7 9 8 6 1 5 2 9 9 0 2 2 9 2\n",
            " 3 0 2 9 6 2 7 4 8 0 6 5 3 6 6 7 9 6 5 7 8 3 7 9 4 1 9 1 7 9 5 7 6 0 1 2 5\n",
            " 2 9 5 7 5 2 4 6 0 4 7 1 3 8 2 6 6 5 2 0 7 8 4 7 0 7 9 0 3 1 6 7 7 3 3 4 7\n",
            " 4 5 1 2 5 6 1 6 9 7 9 4 0 2 5 7 5 0 1 5 7 1 2 8 6 8 7 1 9 7 8 4 5 8 9 2 3\n",
            " 6 9 1 2 1 4 0 4 2 8 7 8 9 3 5 1 4 3 2 2 7 0 9 4 0 0 3 9 1 8 3 0 5 5 0 7 7\n",
            " 4 0 0 6 4 3 6 8 2 2 2 8 8 4 2 7 3 1 3 0 7 5 0 3 9 5 5 8 3 1 0 3 6 0 8 9 8\n",
            " 2 2 3 3 1 9 3 4 6 5 0 0 6 5 6 5 4 6 1 1 0 0 4 4 3 6 9 5 4 0 8 3 7 6 7 6 1\n",
            " 0 1 6 1 7 1 3 6 1 1 0 0 3 3 1 6 1 7 0 7 1 7 7 6 2 6 1 5 0 8 9 5 7 0 4 9 9\n",
            " 4 7 1 3 8 4 9 1 2 5 8 2 4 2 3 6 7 5 9 3 1 6 8 8 5 8 3 4 8 6 8 5 5 4 2 2 7\n",
            " 0 3 3 0 8 8 6 7 7 1 5 1 9 1 5 1 8 6 3 7 2 0 1 5 3 6 7 3 1 1 7 1 3 7 4 5 9\n",
            " 2 8 0 7 3 7 7 5 7 7 7 3 6 0 7 4 4 2 1 7 1 3 4 5 2 7 3 2 6 9 0 9 7 8 4 1 5\n",
            " 6 2 3 1 6 0 8 7 5 0 1 0 1 8 1 5 8 4 1 4 5 0 9 8 8 8 2 5 7 6 7 5 6 1 7 5 4\n",
            " 0 8 0 3 0 1 9 6 4 9 4 3 4 3 3 4 3 2 7 9 2 0 3 5 3 1 8 0 3 1 7 9 2 1 9 8 0\n",
            " 7 9 8 3 6 1 1 5 7 6 3 2 5 9 5 9 7 0 1 9 0 4 7 9 9 7 4 8 9 3 8 4 4 1 6 4 8\n",
            " 2 9 2 1 0 6 5 3 5 0 3 6 1 5 4 0 4 2 2 2 5 4 2 7 3 6 0 3 3 1 7 1 3 6 7 0 9\n",
            " 3 3 2 0 5 7 5 5 7 4 8 9 9 1 7 9 0 3 1 4 6 0 4 2 9 2 2 0 0 7 7 8 1 2 0 0 9\n",
            " 3 9 2 0 1 6 9 0 5 7 7 2 4 0 1 1 5 8 8 8 8 4 1 6 5 7 5 5 7 8 1 3 2 1 9 3 9\n",
            " 8 8 0 5 7 2 3 1 5 4 7 6 1 6 3 1 3 7 0 2 2 0 7 9 7 7 6 1 4 5 5 9 4 4 7 7 7\n",
            " 9 1 9 0 5 6 8 0 7 3 8 6 2 2 9 4 1 9 9 9 4 8 1 5 3 2 8 9 6 4 0 3 8 2 2 0 7\n",
            " 8 4 8 0 1 2 4 7 3 2 4 7 7 0 5 4 6 0 7 8 7 1 6 6 5 5 5 4 5 8 0 2 2 3 1 0 0\n",
            " 1 6 7 1 8 4 3 3 1 1 2 9 9 5 7 9 3 4 3 4 2 7 5 6 9 3 3 5 3 3 6 7 1 8 8 0 4\n",
            " 2 8 0 1 5 3 4 0 1 3 8 8 4 4 3 0 3 2 8 9 0 4 5 1 7 6 1 8 2 9 7 2 1 0 8 5 2\n",
            " 1] [4 5 0 0 0 9 0 9 7 4 0 1 2 6 3 4 7 5 4 3 9 1 5 8 7 2 6 1 4 8 4 7 8 3 3 7 8\n",
            " 8 9 6 5 9 3 0 4 7 1 5 0 0 3 7 7 9 3 1 1 8 8 6 7 2 1 0 3 0 2 8 8 4 9 2 9 8\n",
            " 8 6 0 4 6 0 5 1 2 1 4 0 2 8 1 2 7 7 7 1 7 3 4 1 7 3 4 7 0 4 5 1 2 0 5 9 0\n",
            " 8 1 3 1 3 5 6 1 6 5 3 2 6 1 9 7 3 9 2 0 1 1 4 3 9 4 0 4 9 9 6 1 1 8 9 3 7\n",
            " 5 2 6 8 7 8 8 9 8 8 6 2 1 3 4 6 5 4 5 7 3 9 5 5 6 1 3 3 1 7 5 4 8 3 1 7 6\n",
            " 4 2 6 3 5 8 4 0 6 9 0 6 4 8 5 7 7 8 2 0 9 1 2 7 9 3 6 1 3 2 9 9 0 2 2 3 2\n",
            " 3 0 3 9 6 2 7 4 3 0 6 5 5 6 6 7 4 6 5 9 9 3 7 9 4 1 9 1 7 9 5 7 6 0 1 2 5\n",
            " 2 9 5 9 5 3 4 6 0 4 7 1 3 8 2 6 2 5 2 0 7 8 4 7 0 7 4 0 3 1 6 7 7 3 3 4 7\n",
            " 4 5 1 2 5 6 1 6 7 7 9 4 0 2 5 7 5 0 1 8 7 1 2 8 6 8 7 8 9 7 8 4 5 4 9 8 3\n",
            " 6 9 1 2 1 4 5 4 2 8 7 8 9 3 5 1 5 3 2 2 7 0 8 4 0 0 3 9 1 8 3 0 5 5 0 7 7\n",
            " 4 0 0 6 4 5 2 8 2 2 2 8 8 4 1 9 3 1 3 0 7 5 0 3 4 5 5 8 3 1 0 3 6 0 8 8 8\n",
            " 2 0 3 3 1 9 5 2 6 5 0 0 2 5 6 5 4 6 1 1 0 0 4 4 3 6 9 5 4 0 8 3 9 6 7 4 1\n",
            " 0 1 6 1 7 7 3 6 1 1 0 0 3 3 1 6 1 7 0 7 6 7 7 2 2 6 1 5 0 9 9 8 7 0 4 9 9\n",
            " 7 7 1 3 8 4 9 1 2 5 8 2 4 2 5 6 7 3 5 3 1 6 8 8 5 8 3 4 8 2 8 5 8 4 2 2 1\n",
            " 0 3 3 0 8 8 6 7 7 1 0 1 9 1 8 1 8 6 3 7 8 0 1 5 3 6 7 3 1 1 7 1 3 3 7 5 9\n",
            " 2 8 5 7 3 7 7 5 7 7 7 8 6 0 7 4 4 2 1 7 1 3 4 5 2 7 5 2 6 8 0 8 7 8 1 1 5\n",
            " 6 2 5 1 6 0 8 7 5 0 1 0 1 8 1 5 8 4 1 4 5 0 9 8 8 8 2 5 7 6 7 5 6 1 7 5 4\n",
            " 8 8 0 3 0 1 9 2 4 9 4 3 4 3 3 4 5 2 7 9 2 0 3 5 3 1 8 0 3 1 7 9 6 1 9 8 0\n",
            " 3 9 8 8 4 1 1 5 7 6 3 2 5 5 5 9 7 0 1 9 0 9 7 9 9 7 4 8 9 3 8 4 4 1 6 4 8\n",
            " 2 9 2 1 0 4 5 5 5 0 3 6 1 5 4 5 4 2 2 7 5 4 2 9 3 6 0 3 3 1 7 1 3 6 7 0 9\n",
            " 2 3 2 0 5 7 8 5 7 4 8 9 9 7 7 4 0 5 1 4 6 0 4 2 9 2 2 0 0 7 7 5 1 2 0 5 9\n",
            " 3 9 2 0 1 6 9 0 0 7 3 2 4 0 1 1 5 8 8 8 8 4 1 6 5 7 5 5 7 5 1 5 2 1 9 3 9\n",
            " 0 7 0 8 7 2 3 8 5 4 7 6 1 6 3 1 3 7 0 2 2 0 7 4 9 5 6 1 4 5 5 9 4 4 7 7 7\n",
            " 9 8 9 0 5 6 8 0 7 3 9 6 7 2 9 4 1 9 9 9 4 8 1 8 3 2 3 9 6 4 0 3 8 2 2 0 7\n",
            " 8 4 8 0 1 2 4 7 3 2 4 7 7 0 5 4 6 0 9 8 7 1 6 6 5 5 0 4 5 8 0 2 2 9 1 0 0\n",
            " 1 6 9 1 8 4 3 3 1 1 2 9 7 5 7 9 3 4 3 4 2 0 3 6 9 3 3 5 3 3 6 7 1 8 8 0 4\n",
            " 2 3 0 1 5 3 4 0 1 5 8 8 4 4 3 0 3 2 8 9 0 4 5 1 7 6 1 8 2 9 9 2 1 0 8 0 7\n",
            " 1]\n"
          ]
        },
        {
          "output_type": "execute_result",
          "data": {
            "text/plain": [
              "0.864"
            ]
          },
          "metadata": {},
          "execution_count": 18
        }
      ]
    }
  ]
}